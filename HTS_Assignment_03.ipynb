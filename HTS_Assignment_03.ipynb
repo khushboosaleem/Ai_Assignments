{
 "cells": [
  {
   "cell_type": "markdown",
   "id": "66c0cd83",
   "metadata": {},
   "source": [
    "• Write a program that prints the multiplication table of a given number using a for\n",
    "loop.\n",
    "• Write a program that prints all the even numbers from 1 to 10 using a while loop\n",
    "• Write a function called \"greet_user\" that takes a user's name as an argument and\n",
    "prints a personalized greeting message.\n",
    "• Write a function called \"is_even\" that takes a number as an argument and returns\n",
    "True if the number is even, and False otherwise.\n"
   ]
  },
  {
   "cell_type": "markdown",
   "id": "6121e955",
   "metadata": {},
   "source": [
    "## Write a program that prints the multiplication table of a given number using a for loop."
   ]
  },
  {
   "cell_type": "code",
   "execution_count": 1,
   "id": "205a2a08",
   "metadata": {},
   "outputs": [
    {
     "name": "stdout",
     "output_type": "stream",
     "text": [
      "Enter your number :45\n",
      "45 x 1 = 45\n",
      "45 x 2 = 90\n",
      "45 x 3 = 135\n",
      "45 x 4 = 180\n",
      "45 x 5 = 225\n",
      "45 x 6 = 270\n",
      "45 x 7 = 315\n",
      "45 x 8 = 360\n",
      "45 x 9 = 405\n",
      "45 x 10 = 450\n"
     ]
    }
   ],
   "source": [
    "number = int(input(\"Enter your number :\")) ## enter your number\n",
    "for i in range(1, 11):  ## it takes range 1\n",
    "    result = number * i    \n",
    "    print(f\"{number} x {i} = {result}\") ## any given number multiply store value in i and then print the resutl\n"
   ]
  },
  {
   "cell_type": "markdown",
   "id": "1b5be73a",
   "metadata": {},
   "source": [
    "## Write a program that prints all the even numbers from 1 to 10 using a while loop"
   ]
  },
  {
   "cell_type": "code",
   "execution_count": 2,
   "id": "ad417eef",
   "metadata": {},
   "outputs": [
    {
     "name": "stdout",
     "output_type": "stream",
     "text": [
      "2\n",
      "4\n",
      "6\n",
      "8\n",
      "10\n"
     ]
    }
   ],
   "source": [
    "number = 1\n",
    "\n",
    "# Using a while loop to print even numbers from 1 to 10\n",
    "while number <= 10:\n",
    "    if number % 2 == 0:\n",
    "        print(number)\n",
    "    number += 1"
   ]
  },
  {
   "cell_type": "markdown",
   "id": "b41a04d4",
   "metadata": {},
   "source": [
    "## Write a function called \"greet_user\" that takes a user's name as an argument and prints a personalized greeting message."
   ]
  },
  {
   "cell_type": "code",
   "execution_count": 3,
   "id": "89680e43",
   "metadata": {},
   "outputs": [
    {
     "name": "stdout",
     "output_type": "stream",
     "text": [
      "Please enter your name: khushi\n",
      "Hello, khushi! Welcome to our website.\n"
     ]
    }
   ],
   "source": [
    "def greet_user(name):\n",
    "    print(f\"Hello, {name}! Welcome to our website.\")\n",
    "    \n",
    "user_name = input(\"Please enter your name: \")\n",
    "greet_user(user_name)\n",
    "    "
   ]
  },
  {
   "cell_type": "markdown",
   "id": "fa7d3829",
   "metadata": {},
   "source": [
    "## Write a function called \"is_even\" that takes a number as an argument and returns"
   ]
  },
  {
   "cell_type": "code",
   "execution_count": 4,
   "id": "94842d7e",
   "metadata": {},
   "outputs": [
    {
     "data": {
      "text/plain": [
       "False"
      ]
     },
     "execution_count": 4,
     "metadata": {},
     "output_type": "execute_result"
    }
   ],
   "source": [
    "def is_even(num):\n",
    "    if num % 2 == 0:\n",
    "        return True\n",
    "    else:\n",
    "        return False\n",
    "is_even(45)"
   ]
  }
 ],
 "metadata": {
  "kernelspec": {
   "display_name": "Python 3 (ipykernel)",
   "language": "python",
   "name": "python3"
  },
  "language_info": {
   "codemirror_mode": {
    "name": "ipython",
    "version": 3
   },
   "file_extension": ".py",
   "mimetype": "text/x-python",
   "name": "python",
   "nbconvert_exporter": "python",
   "pygments_lexer": "ipython3",
   "version": "3.9.12"
  }
 },
 "nbformat": 4,
 "nbformat_minor": 5
}
