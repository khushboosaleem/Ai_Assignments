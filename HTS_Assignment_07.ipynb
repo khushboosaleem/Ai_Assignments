{
 "cells": [
  {
   "cell_type": "markdown",
   "id": "b1432883",
   "metadata": {},
   "source": [
    "# ***Assignment #07***\n",
    "\n",
    "\n",
    "---\n",
    "\n",
    "\n",
    "\n",
    "**Hope To Skills**\n",
    "\n",
    "\n",
    "**Free Artificial Intelligence Course**\n",
    "\n",
    "**Instructor: Irfan Malik, Dr. Sheraz**\n",
    "\n",
    "# ***Submitted by KHUSHBOO***"
   ]
  },
  {
   "cell_type": "code",
   "execution_count": 1,
   "id": "f74c3220",
   "metadata": {},
   "outputs": [],
   "source": [
    "## import necessary libraries\n",
    "\n",
    "\n",
    "import numpy as np\n",
    "import pandas as pd\n",
    "import matplotlib.pyplot as plt\n",
    "%matplotlib inline\n",
    "import sklearn\n",
    "import seaborn as sns\n",
    "import warnings\n",
    "warnings.filterwarnings('ignore')\n",
    "plt.rcParams[\"figure.figsize\"] = [10,5]\n",
    "warnings.simplefilter(action = \"ignore\", category = FutureWarning)"
   ]
  },
  {
   "cell_type": "markdown",
   "id": "e921fcee",
   "metadata": {},
   "source": [
    "# Collect some information about dataset\n",
    "\n",
    "\n",
    "Longitude: Longitude is a geographic coordinate that represents the east-west position of a location on the Earth's surface. It is measured in degrees, with values ranging from -180° to +180°. In the context of a housing dataset, longitude is often provided to specify the precise location of a property.\n",
    "\n",
    "Latitude: Latitude is another geographic coordinate that represents the north-south position of a location on the Earth's surface. Like longitude, it is measured in degrees and ranges from -90° to +90°. In the context of a housing dataset, latitude is used to pinpoint the exact location of a property.\n",
    "\n",
    "Housing_median_age: This variable typically refers to the median age of the houses in a particular area or housing market. It represents the middle value when all the ages of the houses are sorted in ascending order. Housing median age can provide insights into the overall age distribution of properties in a specific region.\n",
    "\n",
    "Total_rooms: Total rooms refers to the total number of rooms in a housing unit, including bedrooms, living rooms, dining rooms, kitchens, etc. It provides a measure of the overall size or capacity of the property.\n",
    "\n",
    "Total_bedrooms: Total bedrooms represents the total number of bedrooms in a housing unit. Bedrooms are typically private spaces for sleeping and resting within a property.\n",
    "\n",
    "Households: Households refers to the total number of occupied housing units in a particular area. It represents the number of individual households or families residing in the properties within a given region.\n",
    "\n",
    "Median_income: Median income refers to the middle value of the income distribution for a specific area or population. It represents the income level that divides the income distribution into two equal halves. In the context of a housing dataset, median income can be used as a measure of the economic prosperity or affordability of an area.\n",
    "\n",
    "Median_house_value: Median house value is the middle value of the housing prices in a particular area. It represents the price at which half of the houses are priced below and the other half are priced above. Median house value is often used as an indicator of the property values in a given region.\n",
    "\n",
    "Ocean_proximity: Ocean proximity indicates the proximity of a housing unit to the ocean or any other body of water. It may provide categorical information such as \"near bay,\" \"near ocean,\" \"on the island,\" etc. This variable helps understand the location and geographical context of the properties in relation to water bodies."
   ]
  },
  {
   "cell_type": "code",
   "execution_count": 2,
   "id": "3f8e1e0e",
   "metadata": {},
   "outputs": [
    {
     "data": {
      "text/html": [
       "<div>\n",
       "<style scoped>\n",
       "    .dataframe tbody tr th:only-of-type {\n",
       "        vertical-align: middle;\n",
       "    }\n",
       "\n",
       "    .dataframe tbody tr th {\n",
       "        vertical-align: top;\n",
       "    }\n",
       "\n",
       "    .dataframe thead th {\n",
       "        text-align: right;\n",
       "    }\n",
       "</style>\n",
       "<table border=\"1\" class=\"dataframe\">\n",
       "  <thead>\n",
       "    <tr style=\"text-align: right;\">\n",
       "      <th></th>\n",
       "      <th>longitude</th>\n",
       "      <th>latitude</th>\n",
       "      <th>housing_median_age</th>\n",
       "      <th>total_rooms</th>\n",
       "      <th>total_bedrooms</th>\n",
       "      <th>population</th>\n",
       "      <th>households</th>\n",
       "      <th>median_income</th>\n",
       "      <th>median_house_value</th>\n",
       "      <th>ocean_proximity</th>\n",
       "    </tr>\n",
       "  </thead>\n",
       "  <tbody>\n",
       "    <tr>\n",
       "      <th>0</th>\n",
       "      <td>-122.23</td>\n",
       "      <td>37.88</td>\n",
       "      <td>41</td>\n",
       "      <td>880</td>\n",
       "      <td>129.0</td>\n",
       "      <td>322</td>\n",
       "      <td>126</td>\n",
       "      <td>8.3252</td>\n",
       "      <td>452600</td>\n",
       "      <td>NEAR BAY</td>\n",
       "    </tr>\n",
       "    <tr>\n",
       "      <th>1</th>\n",
       "      <td>-122.22</td>\n",
       "      <td>37.86</td>\n",
       "      <td>21</td>\n",
       "      <td>7099</td>\n",
       "      <td>1106.0</td>\n",
       "      <td>2401</td>\n",
       "      <td>1138</td>\n",
       "      <td>8.3014</td>\n",
       "      <td>358500</td>\n",
       "      <td>NEAR BAY</td>\n",
       "    </tr>\n",
       "    <tr>\n",
       "      <th>2</th>\n",
       "      <td>-122.24</td>\n",
       "      <td>37.85</td>\n",
       "      <td>52</td>\n",
       "      <td>1467</td>\n",
       "      <td>190.0</td>\n",
       "      <td>496</td>\n",
       "      <td>177</td>\n",
       "      <td>7.2574</td>\n",
       "      <td>352100</td>\n",
       "      <td>NEAR BAY</td>\n",
       "    </tr>\n",
       "    <tr>\n",
       "      <th>3</th>\n",
       "      <td>-122.25</td>\n",
       "      <td>37.85</td>\n",
       "      <td>52</td>\n",
       "      <td>1274</td>\n",
       "      <td>235.0</td>\n",
       "      <td>558</td>\n",
       "      <td>219</td>\n",
       "      <td>5.6431</td>\n",
       "      <td>341300</td>\n",
       "      <td>NEAR BAY</td>\n",
       "    </tr>\n",
       "    <tr>\n",
       "      <th>4</th>\n",
       "      <td>-122.25</td>\n",
       "      <td>37.85</td>\n",
       "      <td>52</td>\n",
       "      <td>1627</td>\n",
       "      <td>280.0</td>\n",
       "      <td>565</td>\n",
       "      <td>259</td>\n",
       "      <td>3.8462</td>\n",
       "      <td>342200</td>\n",
       "      <td>NEAR BAY</td>\n",
       "    </tr>\n",
       "    <tr>\n",
       "      <th>...</th>\n",
       "      <td>...</td>\n",
       "      <td>...</td>\n",
       "      <td>...</td>\n",
       "      <td>...</td>\n",
       "      <td>...</td>\n",
       "      <td>...</td>\n",
       "      <td>...</td>\n",
       "      <td>...</td>\n",
       "      <td>...</td>\n",
       "      <td>...</td>\n",
       "    </tr>\n",
       "    <tr>\n",
       "      <th>20635</th>\n",
       "      <td>-121.09</td>\n",
       "      <td>39.48</td>\n",
       "      <td>25</td>\n",
       "      <td>1665</td>\n",
       "      <td>374.0</td>\n",
       "      <td>845</td>\n",
       "      <td>330</td>\n",
       "      <td>1.5603</td>\n",
       "      <td>78100</td>\n",
       "      <td>INLAND</td>\n",
       "    </tr>\n",
       "    <tr>\n",
       "      <th>20636</th>\n",
       "      <td>-121.21</td>\n",
       "      <td>39.49</td>\n",
       "      <td>18</td>\n",
       "      <td>697</td>\n",
       "      <td>150.0</td>\n",
       "      <td>356</td>\n",
       "      <td>114</td>\n",
       "      <td>2.5568</td>\n",
       "      <td>77100</td>\n",
       "      <td>INLAND</td>\n",
       "    </tr>\n",
       "    <tr>\n",
       "      <th>20637</th>\n",
       "      <td>-121.22</td>\n",
       "      <td>39.43</td>\n",
       "      <td>17</td>\n",
       "      <td>2254</td>\n",
       "      <td>485.0</td>\n",
       "      <td>1007</td>\n",
       "      <td>433</td>\n",
       "      <td>1.7000</td>\n",
       "      <td>92300</td>\n",
       "      <td>INLAND</td>\n",
       "    </tr>\n",
       "    <tr>\n",
       "      <th>20638</th>\n",
       "      <td>-121.32</td>\n",
       "      <td>39.43</td>\n",
       "      <td>18</td>\n",
       "      <td>1860</td>\n",
       "      <td>409.0</td>\n",
       "      <td>741</td>\n",
       "      <td>349</td>\n",
       "      <td>1.8672</td>\n",
       "      <td>84700</td>\n",
       "      <td>INLAND</td>\n",
       "    </tr>\n",
       "    <tr>\n",
       "      <th>20639</th>\n",
       "      <td>-121.24</td>\n",
       "      <td>39.37</td>\n",
       "      <td>16</td>\n",
       "      <td>2785</td>\n",
       "      <td>616.0</td>\n",
       "      <td>1387</td>\n",
       "      <td>530</td>\n",
       "      <td>2.3886</td>\n",
       "      <td>89400</td>\n",
       "      <td>INLAND</td>\n",
       "    </tr>\n",
       "  </tbody>\n",
       "</table>\n",
       "<p>20640 rows × 10 columns</p>\n",
       "</div>"
      ],
      "text/plain": [
       "       longitude  latitude  housing_median_age  total_rooms  total_bedrooms  \\\n",
       "0        -122.23     37.88                  41          880           129.0   \n",
       "1        -122.22     37.86                  21         7099          1106.0   \n",
       "2        -122.24     37.85                  52         1467           190.0   \n",
       "3        -122.25     37.85                  52         1274           235.0   \n",
       "4        -122.25     37.85                  52         1627           280.0   \n",
       "...          ...       ...                 ...          ...             ...   \n",
       "20635    -121.09     39.48                  25         1665           374.0   \n",
       "20636    -121.21     39.49                  18          697           150.0   \n",
       "20637    -121.22     39.43                  17         2254           485.0   \n",
       "20638    -121.32     39.43                  18         1860           409.0   \n",
       "20639    -121.24     39.37                  16         2785           616.0   \n",
       "\n",
       "       population  households  median_income  median_house_value  \\\n",
       "0             322         126         8.3252              452600   \n",
       "1            2401        1138         8.3014              358500   \n",
       "2             496         177         7.2574              352100   \n",
       "3             558         219         5.6431              341300   \n",
       "4             565         259         3.8462              342200   \n",
       "...           ...         ...            ...                 ...   \n",
       "20635         845         330         1.5603               78100   \n",
       "20636         356         114         2.5568               77100   \n",
       "20637        1007         433         1.7000               92300   \n",
       "20638         741         349         1.8672               84700   \n",
       "20639        1387         530         2.3886               89400   \n",
       "\n",
       "      ocean_proximity  \n",
       "0            NEAR BAY  \n",
       "1            NEAR BAY  \n",
       "2            NEAR BAY  \n",
       "3            NEAR BAY  \n",
       "4            NEAR BAY  \n",
       "...               ...  \n",
       "20635          INLAND  \n",
       "20636          INLAND  \n",
       "20637          INLAND  \n",
       "20638          INLAND  \n",
       "20639          INLAND  \n",
       "\n",
       "[20640 rows x 10 columns]"
      ]
     },
     "execution_count": 2,
     "metadata": {},
     "output_type": "execute_result"
    }
   ],
   "source": [
    "full_data = pd.read_csv('housing.csv')\n",
    "full_data"
   ]
  },
  {
   "cell_type": "code",
   "execution_count": 3,
   "id": "3d24d995",
   "metadata": {},
   "outputs": [
    {
     "data": {
      "text/plain": [
       "longitude             float64\n",
       "latitude              float64\n",
       "housing_median_age      int64\n",
       "total_rooms             int64\n",
       "total_bedrooms        float64\n",
       "population              int64\n",
       "households              int64\n",
       "median_income         float64\n",
       "median_house_value      int64\n",
       "ocean_proximity        object\n",
       "dtype: object"
      ]
     },
     "execution_count": 3,
     "metadata": {},
     "output_type": "execute_result"
    }
   ],
   "source": [
    "full_data.dtypes"
   ]
  },
  {
   "cell_type": "code",
   "execution_count": 4,
   "id": "752f0ba0",
   "metadata": {},
   "outputs": [
    {
     "name": "stdout",
     "output_type": "stream",
     "text": [
      "<class 'pandas.core.frame.DataFrame'>\n",
      "RangeIndex: 20640 entries, 0 to 20639\n",
      "Data columns (total 10 columns):\n",
      " #   Column              Non-Null Count  Dtype  \n",
      "---  ------              --------------  -----  \n",
      " 0   longitude           20640 non-null  float64\n",
      " 1   latitude            20640 non-null  float64\n",
      " 2   housing_median_age  20640 non-null  int64  \n",
      " 3   total_rooms         20640 non-null  int64  \n",
      " 4   total_bedrooms      20433 non-null  float64\n",
      " 5   population          20640 non-null  int64  \n",
      " 6   households          20640 non-null  int64  \n",
      " 7   median_income       20640 non-null  float64\n",
      " 8   median_house_value  20640 non-null  int64  \n",
      " 9   ocean_proximity     20640 non-null  object \n",
      "dtypes: float64(4), int64(5), object(1)\n",
      "memory usage: 1.6+ MB\n"
     ]
    }
   ],
   "source": [
    "full_data.info()"
   ]
  },
  {
   "cell_type": "code",
   "execution_count": 5,
   "id": "7f0d0d74",
   "metadata": {},
   "outputs": [
    {
     "data": {
      "text/plain": [
       "longitude               0\n",
       "latitude                0\n",
       "housing_median_age      0\n",
       "total_rooms             0\n",
       "total_bedrooms        207\n",
       "population              0\n",
       "households              0\n",
       "median_income           0\n",
       "median_house_value      0\n",
       "ocean_proximity         0\n",
       "dtype: int64"
      ]
     },
     "execution_count": 5,
     "metadata": {},
     "output_type": "execute_result"
    }
   ],
   "source": [
    "full_data.isnull().sum()"
   ]
  },
  {
   "cell_type": "code",
   "execution_count": 6,
   "id": "2f9e4a6d",
   "metadata": {},
   "outputs": [
    {
     "data": {
      "text/plain": [
       "longitude               844\n",
       "latitude                862\n",
       "housing_median_age       52\n",
       "total_rooms            5926\n",
       "total_bedrooms         1923\n",
       "population             3888\n",
       "households             1815\n",
       "median_income         12928\n",
       "median_house_value     3842\n",
       "ocean_proximity           5\n",
       "dtype: int64"
      ]
     },
     "execution_count": 6,
     "metadata": {},
     "output_type": "execute_result"
    }
   ],
   "source": [
    "full_data.nunique()"
   ]
  },
  {
   "cell_type": "code",
   "execution_count": 7,
   "id": "7621c9c6",
   "metadata": {},
   "outputs": [
    {
     "data": {
      "text/plain": [
       "array(['NEAR BAY', '<1H OCEAN', 'INLAND', 'NEAR OCEAN', 'ISLAND'],\n",
       "      dtype=object)"
      ]
     },
     "execution_count": 7,
     "metadata": {},
     "output_type": "execute_result"
    }
   ],
   "source": [
    "full_data['ocean_proximity'].unique()"
   ]
  },
  {
   "cell_type": "markdown",
   "id": "6f6ef81c",
   "metadata": {},
   "source": [
    "## **1. Perform EDA on the Dataset Which should include**"
   ]
  },
  {
   "cell_type": "markdown",
   "id": "4e47f15f",
   "metadata": {},
   "source": [
    "## ** a. Visualization and explore the data using seaborn**\n",
    "\n",
    "**i. Add your findings about the data under each graph in the code notebook**"
   ]
  },
  {
   "cell_type": "code",
   "execution_count": 8,
   "id": "a484a552",
   "metadata": {},
   "outputs": [
    {
     "data": {
      "image/png": "[encoded data removed]",
      "text/plain": [
       "<Figure size 720x360 with 1 Axes>"
      ]
     },
     "metadata": {
      "needs_background": "light"
     },
     "output_type": "display_data"
    }
   ],
   "source": [
    "sns.countplot(x=\"ocean_proximity\", data=full_data, palette=\"Blues\");\n",
    "plt.show()"
   ]
  },
  {
   "cell_type": "markdown",
   "id": "5ddab871",
   "metadata": {},
   "source": [
    "## b. Identify the data patterns if exist for single/multiple variables\n",
    "\n",
    "**i. Write your findings under the plots or code that identify the pattern**"
   ]
  },
  {
   "cell_type": "code",
   "execution_count": 9,
   "id": "153febe8",
   "metadata": {},
   "outputs": [
    {
     "data": {
      "image/png": "[encoded data removed]",
      "text/plain": [
       "<Figure size 576x432 with 1 Axes>"
      ]
     },
     "metadata": {
      "needs_background": "light"
     },
     "output_type": "display_data"
    }
   ],
   "source": [
    "plt.figure(figsize=(8, 6))\n",
    "sns.boxplot(data= full_data, x='ocean_proximity', y='median_house_value')\n",
    "plt.ylabel('median house value')\n",
    "plt.xlabel('ocean proximity')\n",
    "plt.title('box Plot: median house value vs Ocean proximity')\n",
    "plt.show()"
   ]
  },
  {
   "cell_type": "code",
   "execution_count": 10,
   "id": "6fd2d79c",
   "metadata": {},
   "outputs": [
    {
     "data": {
      "image/png": "[encoded data removed]",
      "text/plain": [
       "<Figure size 576x432 with 1 Axes>"
      ]
     },
     "metadata": {
      "needs_background": "light"
     },
     "output_type": "display_data"
    }
   ],
   "source": [
    "plt.figure(figsize=(8, 6))\n",
    "sns.violinplot(data= full_data, x='ocean_proximity', y='median_house_value')\n",
    "plt.ylabel('median house value')\n",
    "plt.xlabel('ocean proximity')\n",
    "plt.title('violin Plot: median house value vs Ocean proximity')\n",
    "plt.show()\n",
    "\n",
    "\n",
    "\n",
    "## The violin plot clearly demonstrates that homes located near the ocean are generally more expensive."
   ]
  },
  {
   "cell_type": "markdown",
   "id": "c79abeb5",
   "metadata": {},
   "source": [
    "## c. Clean the dataset, remove the missing values as mentioned in the Lectures 15\n",
    "\n",
    "**i. Explain your approach in the Collab notebook text cell**"
   ]
  },
  {
   "cell_type": "code",
   "execution_count": 11,
   "id": "d87d9bdb",
   "metadata": {},
   "outputs": [
    {
     "data": {
      "image/png": "[encoded data removed]",
      "text/plain": [
       "<Figure size 720x360 with 1 Axes>"
      ]
     },
     "metadata": {
      "needs_background": "light"
     },
     "output_type": "display_data"
    }
   ],
   "source": [
    "## check the missing value through heat map\n",
    "\n",
    "sns.heatmap(full_data.isnull(),yticklabels = False, cbar = False,cmap = 'tab20c_r')\n",
    "plt.title('Missing Data: Training Set')\n",
    "plt.show()\n"
   ]
  },
  {
   "cell_type": "code",
   "execution_count": 12,
   "id": "eceb520f",
   "metadata": {},
   "outputs": [
    {
     "data": {
      "text/plain": [
       "(20640, 10)"
      ]
     },
     "execution_count": 12,
     "metadata": {},
     "output_type": "execute_result"
    }
   ],
   "source": [
    "full_data.shape"
   ]
  },
  {
   "cell_type": "code",
   "execution_count": 13,
   "id": "1856f989",
   "metadata": {},
   "outputs": [],
   "source": [
    "full_data.dropna(inplace=True)"
   ]
  },
  {
   "cell_type": "code",
   "execution_count": 14,
   "id": "f6d6d7c9",
   "metadata": {},
   "outputs": [
    {
     "data": {
      "text/plain": [
       "longitude             0\n",
       "latitude              0\n",
       "housing_median_age    0\n",
       "total_rooms           0\n",
       "total_bedrooms        0\n",
       "population            0\n",
       "households            0\n",
       "median_income         0\n",
       "median_house_value    0\n",
       "ocean_proximity       0\n",
       "dtype: int64"
      ]
     },
     "execution_count": 14,
     "metadata": {},
     "output_type": "execute_result"
    }
   ],
   "source": [
    "full_data.isnull().sum()"
   ]
  },
  {
   "cell_type": "code",
   "execution_count": 15,
   "id": "11e1b627",
   "metadata": {},
   "outputs": [
    {
     "data": {
      "image/png": "[encoded data removed]",
      "text/plain": [
       "<Figure size 720x360 with 1 Axes>"
      ]
     },
     "metadata": {
      "needs_background": "light"
     },
     "output_type": "display_data"
    }
   ],
   "source": [
    "## check by heatmap\n",
    "\n",
    "sns.heatmap(full_data.isnull(),yticklabels = False, cbar = False,cmap = 'tab20c_r')\n",
    "plt.title('Missing Data: Training Set')\n",
    "plt.show()\n",
    "\n"
   ]
  },
  {
   "cell_type": "code",
   "execution_count": 16,
   "id": "4d68e704",
   "metadata": {},
   "outputs": [
    {
     "data": {
      "text/plain": [
       "(20433, 10)"
      ]
     },
     "execution_count": 16,
     "metadata": {},
     "output_type": "execute_result"
    }
   ],
   "source": [
    "full_data.shape"
   ]
  },
  {
   "cell_type": "markdown",
   "id": "aaac7f4a",
   "metadata": {},
   "source": [
    "## i. Explain your approach in the Collab notebook text cell\n",
    "\n",
    "**d. Select the target variable and clearly mention the reason for selecting it.**\n",
    "\n",
    "**ocean_proximity is my target varible beacuse this column is categorical column and i can perform classification on this feature this my undersatanding if i mm wrong plz gide me**"
   ]
  },
  {
   "cell_type": "markdown",
   "id": "dc66ce8c",
   "metadata": {},
   "source": [
    "## **e. Separate the target variable from the data set.**"
   ]
  },
  {
   "cell_type": "code",
   "execution_count": 17,
   "id": "8582af31",
   "metadata": {},
   "outputs": [],
   "source": [
    "# Remove unnecessary columns\n",
    "full_data.drop(['longitude','latitude','median_income'], axis = 1, inplace = True)\n",
    "\n",
    "# Convert objects to category data type\n",
    "objcat = ['ocean_proximity']\n",
    "\n",
    "for colname in objcat:\n",
    "    full_data[colname] = full_data[colname].astype('category')"
   ]
  },
  {
   "cell_type": "code",
   "execution_count": 18,
   "id": "8972cc5e",
   "metadata": {},
   "outputs": [
    {
     "name": "stdout",
     "output_type": "stream",
     "text": [
      "<class 'pandas.core.frame.DataFrame'>\n",
      "Int64Index: 20433 entries, 0 to 20639\n",
      "Data columns (total 7 columns):\n",
      " #   Column              Non-Null Count  Dtype   \n",
      "---  ------              --------------  -----   \n",
      " 0   housing_median_age  20433 non-null  int64   \n",
      " 1   total_rooms         20433 non-null  int64   \n",
      " 2   total_bedrooms      20433 non-null  float64 \n",
      " 3   population          20433 non-null  int64   \n",
      " 4   households          20433 non-null  int64   \n",
      " 5   median_house_value  20433 non-null  int64   \n",
      " 6   ocean_proximity     20433 non-null  category\n",
      "dtypes: category(1), float64(1), int64(5)\n",
      "memory usage: 1.1 MB\n"
     ]
    }
   ],
   "source": [
    "## check the type of target variavle\n",
    "\n",
    "full_data.info()"
   ]
  },
  {
   "cell_type": "code",
   "execution_count": 19,
   "id": "fdcc78e0",
   "metadata": {},
   "outputs": [
    {
     "data": {
      "text/html": [
       "<div>\n",
       "<style scoped>\n",
       "    .dataframe tbody tr th:only-of-type {\n",
       "        vertical-align: middle;\n",
       "    }\n",
       "\n",
       "    .dataframe tbody tr th {\n",
       "        vertical-align: top;\n",
       "    }\n",
       "\n",
       "    .dataframe thead th {\n",
       "        text-align: right;\n",
       "    }\n",
       "</style>\n",
       "<table border=\"1\" class=\"dataframe\">\n",
       "  <thead>\n",
       "    <tr style=\"text-align: right;\">\n",
       "      <th></th>\n",
       "      <th>housing_median_age</th>\n",
       "      <th>total_rooms</th>\n",
       "      <th>total_bedrooms</th>\n",
       "      <th>population</th>\n",
       "      <th>households</th>\n",
       "      <th>median_house_value</th>\n",
       "    </tr>\n",
       "  </thead>\n",
       "  <tbody>\n",
       "    <tr>\n",
       "      <th>count</th>\n",
       "      <td>20433.000000</td>\n",
       "      <td>20433.000000</td>\n",
       "      <td>20433.000000</td>\n",
       "      <td>20433.000000</td>\n",
       "      <td>20433.000000</td>\n",
       "      <td>20433.000000</td>\n",
       "    </tr>\n",
       "    <tr>\n",
       "      <th>mean</th>\n",
       "      <td>28.633094</td>\n",
       "      <td>2636.504233</td>\n",
       "      <td>537.870553</td>\n",
       "      <td>1424.946949</td>\n",
       "      <td>499.433465</td>\n",
       "      <td>206864.413155</td>\n",
       "    </tr>\n",
       "    <tr>\n",
       "      <th>std</th>\n",
       "      <td>12.591805</td>\n",
       "      <td>2185.269567</td>\n",
       "      <td>421.385070</td>\n",
       "      <td>1133.208490</td>\n",
       "      <td>382.299226</td>\n",
       "      <td>115435.667099</td>\n",
       "    </tr>\n",
       "    <tr>\n",
       "      <th>min</th>\n",
       "      <td>1.000000</td>\n",
       "      <td>2.000000</td>\n",
       "      <td>1.000000</td>\n",
       "      <td>3.000000</td>\n",
       "      <td>1.000000</td>\n",
       "      <td>14999.000000</td>\n",
       "    </tr>\n",
       "    <tr>\n",
       "      <th>25%</th>\n",
       "      <td>18.000000</td>\n",
       "      <td>1450.000000</td>\n",
       "      <td>296.000000</td>\n",
       "      <td>787.000000</td>\n",
       "      <td>280.000000</td>\n",
       "      <td>119500.000000</td>\n",
       "    </tr>\n",
       "    <tr>\n",
       "      <th>50%</th>\n",
       "      <td>29.000000</td>\n",
       "      <td>2127.000000</td>\n",
       "      <td>435.000000</td>\n",
       "      <td>1166.000000</td>\n",
       "      <td>409.000000</td>\n",
       "      <td>179700.000000</td>\n",
       "    </tr>\n",
       "    <tr>\n",
       "      <th>75%</th>\n",
       "      <td>37.000000</td>\n",
       "      <td>3143.000000</td>\n",
       "      <td>647.000000</td>\n",
       "      <td>1722.000000</td>\n",
       "      <td>604.000000</td>\n",
       "      <td>264700.000000</td>\n",
       "    </tr>\n",
       "    <tr>\n",
       "      <th>max</th>\n",
       "      <td>52.000000</td>\n",
       "      <td>39320.000000</td>\n",
       "      <td>6445.000000</td>\n",
       "      <td>35682.000000</td>\n",
       "      <td>6082.000000</td>\n",
       "      <td>500001.000000</td>\n",
       "    </tr>\n",
       "  </tbody>\n",
       "</table>\n",
       "</div>"
      ],
      "text/plain": [
       "       housing_median_age   total_rooms  total_bedrooms    population  \\\n",
       "count        20433.000000  20433.000000    20433.000000  20433.000000   \n",
       "mean            28.633094   2636.504233      537.870553   1424.946949   \n",
       "std             12.591805   2185.269567      421.385070   1133.208490   \n",
       "min              1.000000      2.000000        1.000000      3.000000   \n",
       "25%             18.000000   1450.000000      296.000000    787.000000   \n",
       "50%             29.000000   2127.000000      435.000000   1166.000000   \n",
       "75%             37.000000   3143.000000      647.000000   1722.000000   \n",
       "max             52.000000  39320.000000     6445.000000  35682.000000   \n",
       "\n",
       "         households  median_house_value  \n",
       "count  20433.000000        20433.000000  \n",
       "mean     499.433465       206864.413155  \n",
       "std      382.299226       115435.667099  \n",
       "min        1.000000        14999.000000  \n",
       "25%      280.000000       119500.000000  \n",
       "50%      409.000000       179700.000000  \n",
       "75%      604.000000       264700.000000  \n",
       "max     6082.000000       500001.000000  "
      ]
     },
     "execution_count": 19,
     "metadata": {},
     "output_type": "execute_result"
    }
   ],
   "source": [
    "full_data.describe()"
   ]
  },
  {
   "cell_type": "code",
   "execution_count": 20,
   "id": "a57f5431",
   "metadata": {},
   "outputs": [
    {
     "data": {
      "text/plain": [
       "(20433, 7)"
      ]
     },
     "execution_count": 20,
     "metadata": {},
     "output_type": "execute_result"
    }
   ],
   "source": [
    "full_data.shape\n"
   ]
  },
  {
   "cell_type": "markdown",
   "id": "8bb59e56",
   "metadata": {},
   "source": [
    "## 2. Use the Scikit Learn Library to fit the Classification model\n",
    "\n",
    "**a. Split the data into train test sets**\n",
    "\n"
   ]
  },
  {
   "cell_type": "code",
   "execution_count": 21,
   "id": "90beeea4",
   "metadata": {},
   "outputs": [
    {
     "data": {
      "text/html": [
       "<div>\n",
       "<style scoped>\n",
       "    .dataframe tbody tr th:only-of-type {\n",
       "        vertical-align: middle;\n",
       "    }\n",
       "\n",
       "    .dataframe tbody tr th {\n",
       "        vertical-align: top;\n",
       "    }\n",
       "\n",
       "    .dataframe thead th {\n",
       "        text-align: right;\n",
       "    }\n",
       "</style>\n",
       "<table border=\"1\" class=\"dataframe\">\n",
       "  <thead>\n",
       "    <tr style=\"text-align: right;\">\n",
       "      <th></th>\n",
       "      <th>housing_median_age</th>\n",
       "      <th>total_rooms</th>\n",
       "      <th>total_bedrooms</th>\n",
       "      <th>population</th>\n",
       "      <th>households</th>\n",
       "      <th>median_house_value</th>\n",
       "      <th>ocean_proximity</th>\n",
       "    </tr>\n",
       "  </thead>\n",
       "  <tbody>\n",
       "    <tr>\n",
       "      <th>0</th>\n",
       "      <td>41</td>\n",
       "      <td>880</td>\n",
       "      <td>129.0</td>\n",
       "      <td>322</td>\n",
       "      <td>126</td>\n",
       "      <td>452600</td>\n",
       "      <td>NEAR BAY</td>\n",
       "    </tr>\n",
       "    <tr>\n",
       "      <th>1</th>\n",
       "      <td>21</td>\n",
       "      <td>7099</td>\n",
       "      <td>1106.0</td>\n",
       "      <td>2401</td>\n",
       "      <td>1138</td>\n",
       "      <td>358500</td>\n",
       "      <td>NEAR BAY</td>\n",
       "    </tr>\n",
       "    <tr>\n",
       "      <th>2</th>\n",
       "      <td>52</td>\n",
       "      <td>1467</td>\n",
       "      <td>190.0</td>\n",
       "      <td>496</td>\n",
       "      <td>177</td>\n",
       "      <td>352100</td>\n",
       "      <td>NEAR BAY</td>\n",
       "    </tr>\n",
       "    <tr>\n",
       "      <th>3</th>\n",
       "      <td>52</td>\n",
       "      <td>1274</td>\n",
       "      <td>235.0</td>\n",
       "      <td>558</td>\n",
       "      <td>219</td>\n",
       "      <td>341300</td>\n",
       "      <td>NEAR BAY</td>\n",
       "    </tr>\n",
       "    <tr>\n",
       "      <th>4</th>\n",
       "      <td>52</td>\n",
       "      <td>1627</td>\n",
       "      <td>280.0</td>\n",
       "      <td>565</td>\n",
       "      <td>259</td>\n",
       "      <td>342200</td>\n",
       "      <td>NEAR BAY</td>\n",
       "    </tr>\n",
       "  </tbody>\n",
       "</table>\n",
       "</div>"
      ],
      "text/plain": [
       "   housing_median_age  total_rooms  total_bedrooms  population  households  \\\n",
       "0                  41          880           129.0         322         126   \n",
       "1                  21         7099          1106.0        2401        1138   \n",
       "2                  52         1467           190.0         496         177   \n",
       "3                  52         1274           235.0         558         219   \n",
       "4                  52         1627           280.0         565         259   \n",
       "\n",
       "   median_house_value ocean_proximity  \n",
       "0              452600        NEAR BAY  \n",
       "1              358500        NEAR BAY  \n",
       "2              352100        NEAR BAY  \n",
       "3              341300        NEAR BAY  \n",
       "4              342200        NEAR BAY  "
      ]
     },
     "execution_count": 21,
     "metadata": {},
     "output_type": "execute_result"
    }
   ],
   "source": [
    "## Convert categorical variables into 'dummy' or indicator variable\n",
    "ocean = pd.get_dummies(full_data['ocean_proximity'], drop_first = True)\n",
    "full_data.head(5)"
   ]
  },
  {
   "cell_type": "code",
   "execution_count": 22,
   "id": "5c4030aa",
   "metadata": {},
   "outputs": [
    {
     "data": {
      "text/html": [
       "<div>\n",
       "<style scoped>\n",
       "    .dataframe tbody tr th:only-of-type {\n",
       "        vertical-align: middle;\n",
       "    }\n",
       "\n",
       "    .dataframe tbody tr th {\n",
       "        vertical-align: top;\n",
       "    }\n",
       "\n",
       "    .dataframe thead th {\n",
       "        text-align: right;\n",
       "    }\n",
       "</style>\n",
       "<table border=\"1\" class=\"dataframe\">\n",
       "  <thead>\n",
       "    <tr style=\"text-align: right;\">\n",
       "      <th></th>\n",
       "      <th>housing_median_age</th>\n",
       "      <th>total_rooms</th>\n",
       "      <th>total_bedrooms</th>\n",
       "      <th>population</th>\n",
       "      <th>households</th>\n",
       "      <th>median_house_value</th>\n",
       "      <th>ocean_proximity</th>\n",
       "      <th>INLAND</th>\n",
       "      <th>ISLAND</th>\n",
       "      <th>NEAR BAY</th>\n",
       "      <th>NEAR OCEAN</th>\n",
       "    </tr>\n",
       "  </thead>\n",
       "  <tbody>\n",
       "    <tr>\n",
       "      <th>0</th>\n",
       "      <td>41</td>\n",
       "      <td>880</td>\n",
       "      <td>129.0</td>\n",
       "      <td>322</td>\n",
       "      <td>126</td>\n",
       "      <td>452600</td>\n",
       "      <td>NEAR BAY</td>\n",
       "      <td>0</td>\n",
       "      <td>0</td>\n",
       "      <td>1</td>\n",
       "      <td>0</td>\n",
       "    </tr>\n",
       "    <tr>\n",
       "      <th>1</th>\n",
       "      <td>21</td>\n",
       "      <td>7099</td>\n",
       "      <td>1106.0</td>\n",
       "      <td>2401</td>\n",
       "      <td>1138</td>\n",
       "      <td>358500</td>\n",
       "      <td>NEAR BAY</td>\n",
       "      <td>0</td>\n",
       "      <td>0</td>\n",
       "      <td>1</td>\n",
       "      <td>0</td>\n",
       "    </tr>\n",
       "    <tr>\n",
       "      <th>2</th>\n",
       "      <td>52</td>\n",
       "      <td>1467</td>\n",
       "      <td>190.0</td>\n",
       "      <td>496</td>\n",
       "      <td>177</td>\n",
       "      <td>352100</td>\n",
       "      <td>NEAR BAY</td>\n",
       "      <td>0</td>\n",
       "      <td>0</td>\n",
       "      <td>1</td>\n",
       "      <td>0</td>\n",
       "    </tr>\n",
       "    <tr>\n",
       "      <th>3</th>\n",
       "      <td>52</td>\n",
       "      <td>1274</td>\n",
       "      <td>235.0</td>\n",
       "      <td>558</td>\n",
       "      <td>219</td>\n",
       "      <td>341300</td>\n",
       "      <td>NEAR BAY</td>\n",
       "      <td>0</td>\n",
       "      <td>0</td>\n",
       "      <td>1</td>\n",
       "      <td>0</td>\n",
       "    </tr>\n",
       "    <tr>\n",
       "      <th>4</th>\n",
       "      <td>52</td>\n",
       "      <td>1627</td>\n",
       "      <td>280.0</td>\n",
       "      <td>565</td>\n",
       "      <td>259</td>\n",
       "      <td>342200</td>\n",
       "      <td>NEAR BAY</td>\n",
       "      <td>0</td>\n",
       "      <td>0</td>\n",
       "      <td>1</td>\n",
       "      <td>0</td>\n",
       "    </tr>\n",
       "  </tbody>\n",
       "</table>\n",
       "</div>"
      ],
      "text/plain": [
       "   housing_median_age  total_rooms  total_bedrooms  population  households  \\\n",
       "0                  41          880           129.0         322         126   \n",
       "1                  21         7099          1106.0        2401        1138   \n",
       "2                  52         1467           190.0         496         177   \n",
       "3                  52         1274           235.0         558         219   \n",
       "4                  52         1627           280.0         565         259   \n",
       "\n",
       "   median_house_value ocean_proximity  INLAND  ISLAND  NEAR BAY  NEAR OCEAN  \n",
       "0              452600        NEAR BAY       0       0         1           0  \n",
       "1              358500        NEAR BAY       0       0         1           0  \n",
       "2              352100        NEAR BAY       0       0         1           0  \n",
       "3              341300        NEAR BAY       0       0         1           0  \n",
       "4              342200        NEAR BAY       0       0         1           0  "
      ]
     },
     "execution_count": 22,
     "metadata": {},
     "output_type": "execute_result"
    }
   ],
   "source": [
    "# Add new dummy columns to data frame\n",
    "full_data = pd.concat([full_data, ocean], axis = 1)\n",
    "full_data.head(5)"
   ]
  },
  {
   "cell_type": "code",
   "execution_count": 23,
   "id": "32c089be",
   "metadata": {},
   "outputs": [],
   "source": [
    "# Drop unecessary columns\n",
    "full_data.drop(['ocean_proximity'], axis = 1, inplace = True)"
   ]
  },
  {
   "cell_type": "code",
   "execution_count": 24,
   "id": "55a72130",
   "metadata": {},
   "outputs": [
    {
     "name": "stdout",
     "output_type": "stream",
     "text": [
      "train_data shape (20433, 10)\n"
     ]
    },
    {
     "data": {
      "text/html": [
       "<div>\n",
       "<style scoped>\n",
       "    .dataframe tbody tr th:only-of-type {\n",
       "        vertical-align: middle;\n",
       "    }\n",
       "\n",
       "    .dataframe tbody tr th {\n",
       "        vertical-align: top;\n",
       "    }\n",
       "\n",
       "    .dataframe thead th {\n",
       "        text-align: right;\n",
       "    }\n",
       "</style>\n",
       "<table border=\"1\" class=\"dataframe\">\n",
       "  <thead>\n",
       "    <tr style=\"text-align: right;\">\n",
       "      <th></th>\n",
       "      <th>housing_median_age</th>\n",
       "      <th>total_rooms</th>\n",
       "      <th>total_bedrooms</th>\n",
       "      <th>population</th>\n",
       "      <th>households</th>\n",
       "      <th>median_house_value</th>\n",
       "      <th>INLAND</th>\n",
       "      <th>ISLAND</th>\n",
       "      <th>NEAR BAY</th>\n",
       "      <th>NEAR OCEAN</th>\n",
       "    </tr>\n",
       "  </thead>\n",
       "  <tbody>\n",
       "    <tr>\n",
       "      <th>0</th>\n",
       "      <td>41</td>\n",
       "      <td>880</td>\n",
       "      <td>129.0</td>\n",
       "      <td>322</td>\n",
       "      <td>126</td>\n",
       "      <td>452600</td>\n",
       "      <td>0</td>\n",
       "      <td>0</td>\n",
       "      <td>1</td>\n",
       "      <td>0</td>\n",
       "    </tr>\n",
       "    <tr>\n",
       "      <th>1</th>\n",
       "      <td>21</td>\n",
       "      <td>7099</td>\n",
       "      <td>1106.0</td>\n",
       "      <td>2401</td>\n",
       "      <td>1138</td>\n",
       "      <td>358500</td>\n",
       "      <td>0</td>\n",
       "      <td>0</td>\n",
       "      <td>1</td>\n",
       "      <td>0</td>\n",
       "    </tr>\n",
       "    <tr>\n",
       "      <th>2</th>\n",
       "      <td>52</td>\n",
       "      <td>1467</td>\n",
       "      <td>190.0</td>\n",
       "      <td>496</td>\n",
       "      <td>177</td>\n",
       "      <td>352100</td>\n",
       "      <td>0</td>\n",
       "      <td>0</td>\n",
       "      <td>1</td>\n",
       "      <td>0</td>\n",
       "    </tr>\n",
       "    <tr>\n",
       "      <th>3</th>\n",
       "      <td>52</td>\n",
       "      <td>1274</td>\n",
       "      <td>235.0</td>\n",
       "      <td>558</td>\n",
       "      <td>219</td>\n",
       "      <td>341300</td>\n",
       "      <td>0</td>\n",
       "      <td>0</td>\n",
       "      <td>1</td>\n",
       "      <td>0</td>\n",
       "    </tr>\n",
       "    <tr>\n",
       "      <th>4</th>\n",
       "      <td>52</td>\n",
       "      <td>1627</td>\n",
       "      <td>280.0</td>\n",
       "      <td>565</td>\n",
       "      <td>259</td>\n",
       "      <td>342200</td>\n",
       "      <td>0</td>\n",
       "      <td>0</td>\n",
       "      <td>1</td>\n",
       "      <td>0</td>\n",
       "    </tr>\n",
       "  </tbody>\n",
       "</table>\n",
       "</div>"
      ],
      "text/plain": [
       "   housing_median_age  total_rooms  total_bedrooms  population  households  \\\n",
       "0                  41          880           129.0         322         126   \n",
       "1                  21         7099          1106.0        2401        1138   \n",
       "2                  52         1467           190.0         496         177   \n",
       "3                  52         1274           235.0         558         219   \n",
       "4                  52         1627           280.0         565         259   \n",
       "\n",
       "   median_house_value  INLAND  ISLAND  NEAR BAY  NEAR OCEAN  \n",
       "0              452600       0       0         1           0  \n",
       "1              358500       0       0         1           0  \n",
       "2              352100       0       0         1           0  \n",
       "3              341300       0       0         1           0  \n",
       "4              342200       0       0         1           0  "
      ]
     },
     "execution_count": 24,
     "metadata": {},
     "output_type": "execute_result"
    }
   ],
   "source": [
    "print('train_data shape',full_data.shape)\n",
    "full_data.head(5)"
   ]
  },
  {
   "cell_type": "code",
   "execution_count": 25,
   "id": "301de255",
   "metadata": {},
   "outputs": [],
   "source": [
    "## 4 col convert into one column\n",
    "\n",
    "\n",
    "full_data['ocean_prox'] = ((full_data['INLAND'] == 0) & (full_data['ISLAND'] == 0) & (full_data['NEAR OCEAN'] == 0) & (full_data['NEAR BAY'] == 1)).astype(int)\n",
    "\n",
    "# Drop the original four columns if you don't need them anymore\n",
    "full_data.drop(['INLAND', 'ISLAND', 'NEAR OCEAN', 'NEAR BAY'], axis=1, inplace=True)"
   ]
  },
  {
   "cell_type": "code",
   "execution_count": 26,
   "id": "e2747303",
   "metadata": {},
   "outputs": [
    {
     "data": {
      "text/html": [
       "<div>\n",
       "<style scoped>\n",
       "    .dataframe tbody tr th:only-of-type {\n",
       "        vertical-align: middle;\n",
       "    }\n",
       "\n",
       "    .dataframe tbody tr th {\n",
       "        vertical-align: top;\n",
       "    }\n",
       "\n",
       "    .dataframe thead th {\n",
       "        text-align: right;\n",
       "    }\n",
       "</style>\n",
       "<table border=\"1\" class=\"dataframe\">\n",
       "  <thead>\n",
       "    <tr style=\"text-align: right;\">\n",
       "      <th></th>\n",
       "      <th>housing_median_age</th>\n",
       "      <th>total_rooms</th>\n",
       "      <th>total_bedrooms</th>\n",
       "      <th>population</th>\n",
       "      <th>households</th>\n",
       "      <th>median_house_value</th>\n",
       "      <th>ocean_prox</th>\n",
       "    </tr>\n",
       "  </thead>\n",
       "  <tbody>\n",
       "    <tr>\n",
       "      <th>0</th>\n",
       "      <td>41</td>\n",
       "      <td>880</td>\n",
       "      <td>129.0</td>\n",
       "      <td>322</td>\n",
       "      <td>126</td>\n",
       "      <td>452600</td>\n",
       "      <td>1</td>\n",
       "    </tr>\n",
       "    <tr>\n",
       "      <th>1</th>\n",
       "      <td>21</td>\n",
       "      <td>7099</td>\n",
       "      <td>1106.0</td>\n",
       "      <td>2401</td>\n",
       "      <td>1138</td>\n",
       "      <td>358500</td>\n",
       "      <td>1</td>\n",
       "    </tr>\n",
       "    <tr>\n",
       "      <th>2</th>\n",
       "      <td>52</td>\n",
       "      <td>1467</td>\n",
       "      <td>190.0</td>\n",
       "      <td>496</td>\n",
       "      <td>177</td>\n",
       "      <td>352100</td>\n",
       "      <td>1</td>\n",
       "    </tr>\n",
       "    <tr>\n",
       "      <th>3</th>\n",
       "      <td>52</td>\n",
       "      <td>1274</td>\n",
       "      <td>235.0</td>\n",
       "      <td>558</td>\n",
       "      <td>219</td>\n",
       "      <td>341300</td>\n",
       "      <td>1</td>\n",
       "    </tr>\n",
       "    <tr>\n",
       "      <th>4</th>\n",
       "      <td>52</td>\n",
       "      <td>1627</td>\n",
       "      <td>280.0</td>\n",
       "      <td>565</td>\n",
       "      <td>259</td>\n",
       "      <td>342200</td>\n",
       "      <td>1</td>\n",
       "    </tr>\n",
       "  </tbody>\n",
       "</table>\n",
       "</div>"
      ],
      "text/plain": [
       "   housing_median_age  total_rooms  total_bedrooms  population  households  \\\n",
       "0                  41          880           129.0         322         126   \n",
       "1                  21         7099          1106.0        2401        1138   \n",
       "2                  52         1467           190.0         496         177   \n",
       "3                  52         1274           235.0         558         219   \n",
       "4                  52         1627           280.0         565         259   \n",
       "\n",
       "   median_house_value  ocean_prox  \n",
       "0              452600           1  \n",
       "1              358500           1  \n",
       "2              352100           1  \n",
       "3              341300           1  \n",
       "4              342200           1  "
      ]
     },
     "execution_count": 26,
     "metadata": {},
     "output_type": "execute_result"
    }
   ],
   "source": [
    "full_data.head(5)"
   ]
  },
  {
   "cell_type": "code",
   "execution_count": 27,
   "id": "7dd83b13",
   "metadata": {},
   "outputs": [
    {
     "data": {
      "text/plain": [
       "array([1, 0])"
      ]
     },
     "execution_count": 27,
     "metadata": {},
     "output_type": "execute_result"
    }
   ],
   "source": [
    "full_data['ocean_prox'].unique()"
   ]
  },
  {
   "cell_type": "markdown",
   "id": "283c53e2",
   "metadata": {},
   "source": [
    "## **b. Use logistic regression to train the model**\n"
   ]
  },
  {
   "cell_type": "code",
   "execution_count": 28,
   "id": "a30ac00b",
   "metadata": {},
   "outputs": [],
   "source": [
    "# Split data to be used in the models\n",
    "# Create matrix of features\n",
    "x = full_data.drop('ocean_prox', axis = 1)\n",
    "\n",
    "# Create target variable\n",
    "y = full_data['ocean_prox']\n",
    "\n",
    "# Use x and y variables to split the training data into train and test set\n",
    "\n",
    "from sklearn.model_selection import train_test_split\n",
    "x_train, x_test, y_train, y_test = train_test_split(x, y, test_size = .20, random_state = 101)"
   ]
  },
  {
   "cell_type": "code",
   "execution_count": 29,
   "id": "5ed9becf",
   "metadata": {},
   "outputs": [
    {
     "data": {
      "text/plain": [
       "LogisticRegression()"
      ]
     },
     "execution_count": 29,
     "metadata": {},
     "output_type": "execute_result"
    }
   ],
   "source": [
    "# Fit\n",
    "# Import model\n",
    "from sklearn.linear_model import LogisticRegression\n",
    "\n",
    "# Create instance of model\n",
    "lreg = LogisticRegression()\n",
    "\n",
    "# Pass training data into model\n",
    "lreg.fit(x_train, y_train)"
   ]
  },
  {
   "cell_type": "code",
   "execution_count": 30,
   "id": "74842478",
   "metadata": {},
   "outputs": [
    {
     "name": "stdout",
     "output_type": "stream",
     "text": [
      "[0 0 0 ... 0 0 0]\n"
     ]
    }
   ],
   "source": [
    "# Predict\n",
    "y_pred_lreg = lreg.predict(x_test)\n",
    "print(y_pred_lreg)\n"
   ]
  },
  {
   "cell_type": "markdown",
   "id": "95f925b3",
   "metadata": {},
   "source": [
    " ## **c. Test the model and display the accuracy of the model**"
   ]
  },
  {
   "cell_type": "code",
   "execution_count": 31,
   "id": "2661399e",
   "metadata": {},
   "outputs": [
    {
     "name": "stdout",
     "output_type": "stream",
     "text": [
      "Classification Model\n",
      "------------------------------------------------------------------------------------------------------------------------\n",
      "Accuracy 88.62 %\n"
     ]
    }
   ],
   "source": [
    "from sklearn.metrics import classification_report, accuracy_score\n",
    "\n",
    "print('Classification Model')\n",
    "\n",
    "# Accuracy\n",
    "print('--'*60)\n",
    "logreg_accuracy = round(accuracy_score(y_test, y_pred_lreg) * 100,2)\n",
    "print('Accuracy', logreg_accuracy,'%')"
   ]
  },
  {
   "cell_type": "code",
   "execution_count": null,
   "id": "4b3baa55",
   "metadata": {},
   "outputs": [],
   "source": []
  }
 ],
 "metadata": {
  "kernelspec": {
   "display_name": "Python 3 (ipykernel)",
   "language": "python",
   "name": "python3"
  },
  "language_info": {
   "codemirror_mode": {
    "name": "ipython",
    "version": 3
   },
   "file_extension": ".py",
   "mimetype": "text/x-python",
   "name": "python",
   "nbconvert_exporter": "python",
   "pygments_lexer": "ipython3",
   "version": "3.9.12"
  }
 },
 "nbformat": 4,
 "nbformat_minor": 5
}
