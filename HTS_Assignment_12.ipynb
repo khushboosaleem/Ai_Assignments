{
 "cells": [
  {
   "cell_type": "markdown",
   "metadata": {
    "id": "RfP_KIwXE2c3"
   },
   "source": [
    "# ***Submitted by KHUSHBOO***\n",
    "\n",
    "## **1. Dataset**\n",
    "### **a. You are provided with the fashion MNIST dataset**\n",
    "\n"
   ]
  },
  {
   "cell_type": "code",
   "execution_count": 1,
   "metadata": {
    "id": "PYqKf2NTFPsY"
   },
   "outputs": [],
   "source": [
    "# Import required packages\n",
    "import numpy as np\n",
    "import pandas as pd\n",
    "import keras\n",
    "import tensorflow as tf"
   ]
  },
  {
   "cell_type": "code",
   "execution_count": 2,
   "metadata": {
    "colab": {
     "base_uri": "https://localhost:8080/"
    },
    "id": "ACe8hwNVFuuR",
    "outputId": "6de154b0-a4aa-48f2-cc92-f9ef06a7b24f"
   },
   "outputs": [
    {
     "name": "stdout",
     "output_type": "stream",
     "text": [
      "[name: \"/device:CPU:0\"\n",
      "device_type: \"CPU\"\n",
      "memory_limit: 268435456\n",
      "locality {\n",
      "}\n",
      "incarnation: 12985451578612612207\n",
      "xla_global_id: -1\n",
      ", name: \"/device:GPU:0\"\n",
      "device_type: \"GPU\"\n",
      "memory_limit: 14328594432\n",
      "locality {\n",
      "  bus_id: 1\n",
      "  links {\n",
      "  }\n",
      "}\n",
      "incarnation: 11543446033809862089\n",
      "physical_device_desc: \"device: 0, name: Tesla T4, pci bus id: 0000:00:04.0, compute capability: 7.5\"\n",
      "xla_global_id: 416903419\n",
      "]\n"
     ]
    }
   ],
   "source": [
    "# Checking Available Deices\n",
    "import tensorflow as tf\n",
    "from tensorflow.python.client import device_lib\n",
    "print(device_lib.list_local_devices())"
   ]
  },
  {
   "cell_type": "markdown",
   "metadata": {
    "id": "n3KJJ4kgFeQ9"
   },
   "source": [
    "## **2. Split the data into x_train, y_train, x_test and y_test.**\n"
   ]
  },
  {
   "cell_type": "code",
   "execution_count": 3,
   "metadata": {
    "colab": {
     "base_uri": "https://localhost:8080/"
    },
    "id": "X6d5jewEFaYi",
    "outputId": "6d197b15-c671-40ac-c005-38e73844d8cf"
   },
   "outputs": [
    {
     "name": "stdout",
     "output_type": "stream",
     "text": [
      "Downloading data from https://storage.googleapis.com/tensorflow/tf-keras-datasets/train-labels-idx1-ubyte.gz\n",
      "29515/29515 [==============================] - 0s 0us/step\n",
      "Downloading data from https://storage.googleapis.com/tensorflow/tf-keras-datasets/train-images-idx3-ubyte.gz\n",
      "26421880/26421880 [==============================] - 0s 0us/step\n",
      "Downloading data from https://storage.googleapis.com/tensorflow/tf-keras-datasets/t10k-labels-idx1-ubyte.gz\n",
      "5148/5148 [==============================] - 0s 0us/step\n",
      "Downloading data from https://storage.googleapis.com/tensorflow/tf-keras-datasets/t10k-images-idx3-ubyte.gz\n",
      "4422102/4422102 [==============================] - 0s 0us/step\n"
     ]
    }
   ],
   "source": [
    "from tensorflow.keras.datasets import fashion_mnist\n",
    "(x_train, y_train),(x_test,y_test) = fashion_mnist.load_data()"
   ]
  },
  {
   "cell_type": "markdown",
   "metadata": {
    "id": "QeV3wt2JGAV4"
   },
   "source": [
    "## **a. Display the sample images from x_train**\n"
   ]
  },
  {
   "cell_type": "code",
   "execution_count": 4,
   "metadata": {
    "colab": {
     "base_uri": "https://localhost:8080/",
     "height": 140
    },
    "id": "ts1TnjLlF5yv",
    "outputId": "b97d4aee-56d2-40a9-a613-ca19fac8b693"
   },
   "outputs": [
    {
     "data": {
      "image/png": "[encoded data removed]",
      "text/plain": [
       "<Figure size 2000x400 with 10 Axes>"
      ]
     },
     "metadata": {},
     "output_type": "display_data"
    }
   ],
   "source": [
    "import matplotlib.pyplot as plt\n",
    "\n",
    "# Number of digit to display\n",
    "n = 10\n",
    "\n",
    "# Create a figure to display the images\n",
    "plt.figure(figsize = (20,4))\n",
    "\n",
    "# Loop through the first 'n' images\n",
    "for i in range(n):\n",
    "  # create the subplot\n",
    "  ax = plt.subplot(2,n,i+1)\n",
    "\n",
    "  # display the images\n",
    "  plt.imshow(x_test[i].reshape(28,28))\n",
    "\n",
    "  # Set colormap to grayscale\n",
    "  plt.gray()\n",
    "\n",
    "  # Hide x_axis and y_axis\n",
    "  ax.get_xaxis().set_visible(False)\n",
    "  ax.get_yaxis().set_visible(False)\n",
    "\n",
    "# show the figure with the images\n",
    "plt.show()\n",
    "\n",
    "# Close the figure\n",
    "plt.close()"
   ]
  },
  {
   "cell_type": "markdown",
   "metadata": {
    "id": "hwxJ0-Q4Gbp4"
   },
   "source": [
    "## **b. Display the shape of x_train and y_train**\n"
   ]
  },
  {
   "cell_type": "code",
   "execution_count": 5,
   "metadata": {
    "colab": {
     "base_uri": "https://localhost:8080/"
    },
    "id": "2li_ABARGfEL",
    "outputId": "4a46bf3d-db9d-4450-a430-7ac63ba9c365"
   },
   "outputs": [
    {
     "name": "stdout",
     "output_type": "stream",
     "text": [
      "x_train shape :  (60000, 28, 28)\n",
      "y_train shape :  (60000,)\n"
     ]
    }
   ],
   "source": [
    "print(\"x_train shape : \", x_train.shape)\n",
    "print(\"y_train shape : \", y_train.shape)"
   ]
  },
  {
   "cell_type": "markdown",
   "metadata": {
    "id": "TVbs6sd8Gvs8"
   },
   "source": [
    "## **3. Flatten the images**\n",
    "### a. Reshape the images from 28x28 to 28x28x1."
   ]
  },
  {
   "cell_type": "code",
   "execution_count": 6,
   "metadata": {
    "id": "dxNGfy9CGqEu"
   },
   "outputs": [],
   "source": [
    "x_train = x_train.reshape(x_train.shape[0],28,28,1)\n",
    "x_test = x_test.reshape(x_test.shape[0],28,28,1)"
   ]
  },
  {
   "cell_type": "markdown",
   "metadata": {
    "id": "8Qenkl3IG-yT"
   },
   "source": [
    "## **4. Scale the data**\n",
    "### **a. Convert the data into float 32 type**\n",
    "### **b. Scale the data by dividing x_train and y_train by 255**\n"
   ]
  },
  {
   "cell_type": "code",
   "execution_count": 7,
   "metadata": {
    "id": "kxvgcWf_G4x6"
   },
   "outputs": [],
   "source": [
    "x_train = x_train.astype(\"float32\")\n",
    "x_test = x_test.astype(\"float32\")\n",
    "x_train /= 255\n",
    "x_test /= 255"
   ]
  },
  {
   "cell_type": "markdown",
   "metadata": {
    "id": "R-aON32qHYea"
   },
   "source": [
    "## **c. Display the shape of x_train and y_train after scaling.**\n"
   ]
  },
  {
   "cell_type": "code",
   "execution_count": 8,
   "metadata": {
    "colab": {
     "base_uri": "https://localhost:8080/"
    },
    "id": "1HNYhFDoHIGw",
    "outputId": "9ee7cf2f-4237-41b6-d8bd-409a36e7eddf"
   },
   "outputs": [
    {
     "name": "stdout",
     "output_type": "stream",
     "text": [
      "x_train shape :  (60000, 28, 28, 1)\n",
      "y_train shape :  (60000, 10)\n"
     ]
    }
   ],
   "source": [
    "from keras.utils import to_categorical\n",
    "\n",
    "y_train = to_categorical(y_train, num_classes=10)\n",
    "y_test = to_categorical(y_test, num_classes=10)\n",
    "\n",
    "## seeing updated shapes\n",
    "print(\"x_train shape : \", x_train.shape)\n",
    "print(\"y_train shape : \", y_train.shape)"
   ]
  },
  {
   "cell_type": "markdown",
   "metadata": {
    "id": "cEnN_zBhH2zw"
   },
   "source": [
    "## **5. Define the hyper parameters for the neural networks**\n",
    "**a. No. of Epochs**\n",
    "\n",
    "**b. Batch size**\n",
    "\n",
    "**c. Input_size of image (Img_height, Img_width, No of channels)**\n",
    "\n",
    "**d. No of convolutional layers**\n",
    "\n",
    "**e. Output_size (output layers depending upon the number of classes)**"
   ]
  },
  {
   "cell_type": "code",
   "execution_count": 9,
   "metadata": {
    "id": "YeowZ7BDHvjr"
   },
   "outputs": [],
   "source": [
    "from keras.models import Sequential\n",
    "from keras.layers.core import Dense ,Flatten\n",
    "from keras.layers.convolutional import Conv2D, MaxPooling2D"
   ]
  },
  {
   "cell_type": "code",
   "execution_count": 10,
   "metadata": {
    "id": "sgkhzgwPIaQX"
   },
   "outputs": [],
   "source": [
    "# Input_size of image (Img_height, Img_width, No of channels)\n",
    "img_rows, img_cols,channels = 28,28,1\n",
    "\n",
    "# No of convolutional layers\n",
    "filters = [6,32,80,120]\n",
    "classes = 10"
   ]
  },
  {
   "cell_type": "markdown",
   "metadata": {
    "id": "bZFUv7gEJFfv"
   },
   "source": [
    "## **6. Define the structure of your neural network**"
   ]
  },
  {
   "cell_type": "code",
   "execution_count": 12,
   "metadata": {
    "id": "iyjomxs9JD1-"
   },
   "outputs": [],
   "source": [
    "model=Sequential()\n",
    "#a. No of Convolutional layers\n",
    "# b. Activation function for each convolutional layer\n",
    "model.add(Conv2D(filters[0],(3,3),padding='same',\\\n",
    "                 activation='relu',input_shape=(img_rows,img_cols, channels)))\n",
    "model.add(MaxPooling2D(pool_size=(2,2)))\n",
    "\n",
    "model.add(Conv2D(filters[1],(2,2),padding='same', activation='relu'))\n",
    "model.add(MaxPooling2D(pool_size=(2,2)))\n",
    "\n",
    "model.add(Conv2D(filters[2],(2,2),padding='same', activation='relu'))\n",
    "model.add(MaxPooling2D(pool_size=(2,2)))\n",
    "\n",
    "model.add(Conv2D(filters[3],(2,2),padding='same', activation='relu'))\n",
    "model.add(MaxPooling2D(pool_size=(2,2)))\n",
    "\n",
    "# c. Flatten the 2D vectors into 1D vector for FCN\n",
    "model.add(Flatten())\n",
    "\n",
    "# d. Number of output layer neurons and activation function\n",
    "model.add(Dense(64,activation='relu'))\n",
    "model.add(Dense(classes, activation='softmax'))\n",
    "\n",
    "# e. Compile the model and provide following arguments\n",
    "model.compile(loss='categorical_crossentropy', optimizer='sgd', metrics=['accuracy'])"
   ]
  },
  {
   "cell_type": "code",
   "execution_count": 13,
   "metadata": {
    "colab": {
     "base_uri": "https://localhost:8080/"
    },
    "id": "Fj79W8oyJa-d",
    "outputId": "93092f51-82b4-4e86-8ffd-5f3206713157"
   },
   "outputs": [
    {
     "name": "stdout",
     "output_type": "stream",
     "text": [
      "Model: \"sequential_1\"\n",
      "_________________________________________________________________\n",
      " Layer (type)                Output Shape              Param #   \n",
      "=================================================================\n",
      " conv2d_4 (Conv2D)           (None, 28, 28, 6)         60        \n",
      "                                                                 \n",
      " max_pooling2d_4 (MaxPooling  (None, 14, 14, 6)        0         \n",
      " 2D)                                                             \n",
      "                                                                 \n",
      " conv2d_5 (Conv2D)           (None, 14, 14, 32)        800       \n",
      "                                                                 \n",
      " max_pooling2d_5 (MaxPooling  (None, 7, 7, 32)         0         \n",
      " 2D)                                                             \n",
      "                                                                 \n",
      " conv2d_6 (Conv2D)           (None, 7, 7, 80)          10320     \n",
      "                                                                 \n",
      " max_pooling2d_6 (MaxPooling  (None, 3, 3, 80)         0         \n",
      " 2D)                                                             \n",
      "                                                                 \n",
      " conv2d_7 (Conv2D)           (None, 3, 3, 120)         38520     \n",
      "                                                                 \n",
      " max_pooling2d_7 (MaxPooling  (None, 1, 1, 120)        0         \n",
      " 2D)                                                             \n",
      "                                                                 \n",
      " flatten_1 (Flatten)         (None, 120)               0         \n",
      "                                                                 \n",
      " dense_2 (Dense)             (None, 64)                7744      \n",
      "                                                                 \n",
      " dense_3 (Dense)             (None, 10)                650       \n",
      "                                                                 \n",
      "=================================================================\n",
      "Total params: 58,094\n",
      "Trainable params: 58,094\n",
      "Non-trainable params: 0\n",
      "_________________________________________________________________\n"
     ]
    }
   ],
   "source": [
    "# f. Display the summary of the model\n",
    "model.summary()\n"
   ]
  },
  {
   "cell_type": "markdown",
   "metadata": {
    "id": "j6UjFD50Ksxz"
   },
   "source": [
    "## **7. Train the Neural Network**\n"
   ]
  },
  {
   "cell_type": "code",
   "execution_count": 14,
   "metadata": {
    "colab": {
     "base_uri": "https://localhost:8080/"
    },
    "id": "EV5eUGrwKwdd",
    "outputId": "ad09f325-0106-418b-b997-b3a80d709d98"
   },
   "outputs": [
    {
     "name": "stdout",
     "output_type": "stream",
     "text": [
      "Epoch 1/15\n",
      "750/750 [==============================] - 15s 6ms/step - loss: 2.0578 - accuracy: 0.3185 - val_loss: 1.1193 - val_accuracy: 0.5794\n",
      "Epoch 2/15\n",
      "750/750 [==============================] - 4s 5ms/step - loss: 0.9065 - accuracy: 0.6481 - val_loss: 0.8101 - val_accuracy: 0.6854\n",
      "Epoch 3/15\n",
      "750/750 [==============================] - 4s 5ms/step - loss: 0.7103 - accuracy: 0.7270 - val_loss: 0.6461 - val_accuracy: 0.7559\n",
      "Epoch 4/15\n",
      "750/750 [==============================] - 4s 5ms/step - loss: 0.6206 - accuracy: 0.7654 - val_loss: 0.5563 - val_accuracy: 0.7916\n",
      "Epoch 5/15\n",
      "750/750 [==============================] - 4s 5ms/step - loss: 0.5645 - accuracy: 0.7891 - val_loss: 0.5535 - val_accuracy: 0.7992\n",
      "Epoch 6/15\n",
      "750/750 [==============================] - 5s 7ms/step - loss: 0.5268 - accuracy: 0.8035 - val_loss: 0.5020 - val_accuracy: 0.8087\n",
      "Epoch 7/15\n",
      "750/750 [==============================] - 4s 5ms/step - loss: 0.4919 - accuracy: 0.8180 - val_loss: 0.4680 - val_accuracy: 0.8312\n",
      "Epoch 8/15\n",
      "750/750 [==============================] - 5s 6ms/step - loss: 0.4704 - accuracy: 0.8279 - val_loss: 0.4672 - val_accuracy: 0.8266\n",
      "Epoch 9/15\n",
      "750/750 [==============================] - 5s 6ms/step - loss: 0.4503 - accuracy: 0.8353 - val_loss: 0.4345 - val_accuracy: 0.8421\n",
      "Epoch 10/15\n",
      "750/750 [==============================] - 3s 5ms/step - loss: 0.4335 - accuracy: 0.8412 - val_loss: 0.4501 - val_accuracy: 0.8373\n",
      "Epoch 11/15\n",
      "750/750 [==============================] - 4s 5ms/step - loss: 0.4166 - accuracy: 0.8485 - val_loss: 0.4218 - val_accuracy: 0.8511\n",
      "Epoch 12/15\n",
      "750/750 [==============================] - 4s 5ms/step - loss: 0.4037 - accuracy: 0.8525 - val_loss: 0.4233 - val_accuracy: 0.8484\n",
      "Epoch 13/15\n",
      "750/750 [==============================] - 3s 5ms/step - loss: 0.3927 - accuracy: 0.8571 - val_loss: 0.3952 - val_accuracy: 0.8584\n",
      "Epoch 14/15\n",
      "750/750 [==============================] - 4s 5ms/step - loss: 0.3790 - accuracy: 0.8624 - val_loss: 0.3898 - val_accuracy: 0.8607\n",
      "Epoch 15/15\n",
      "750/750 [==============================] - 4s 6ms/step - loss: 0.3705 - accuracy: 0.8669 - val_loss: 0.3837 - val_accuracy: 0.8638\n"
     ]
    },
    {
     "data": {
      "text/plain": [
       "<keras.callbacks.History at 0x7faf91756590>"
      ]
     },
     "execution_count": 14,
     "metadata": {},
     "output_type": "execute_result"
    }
   ],
   "source": [
    "# a. Fit the Model\n",
    "# b. Train the Model for 15 epochs and report the training accuracy\n",
    "model.fit(x_train, y_train, validation_split=0.2, epochs=15, batch_size=64, verbose=1)"
   ]
  },
  {
   "cell_type": "markdown",
   "metadata": {
    "id": "d-fSd3CKLIpk"
   },
   "source": [
    "## **8. Test the model**\n",
    "### **a. Find the testing accuracy of the model**\n"
   ]
  },
  {
   "cell_type": "code",
   "execution_count": 15,
   "metadata": {
    "colab": {
     "base_uri": "https://localhost:8080/"
    },
    "id": "K3MdQW65LgfM",
    "outputId": "95ffb128-ab65-4c1c-8a08-9114e138c691"
   },
   "outputs": [
    {
     "name": "stdout",
     "output_type": "stream",
     "text": [
      "\n",
      "Test accuracy: 0.8307\n"
     ]
    }
   ],
   "source": [
    "from sklearn.metrics import accuracy_score\n",
    "import numpy as np\n",
    "y_pred_probs = model.predict(x_test, verbose=0)\n",
    "y_pred = np.where(y_pred_probs > 0.5,1,0)\n",
    "\n",
    "# Calculate and print the test accuracy using predicted and true labels\n",
    "test_accuracy = accuracy_score(y_pred, y_test)\n",
    "print(\"\\nTest accuracy: {}\".format(test_accuracy))"
   ]
  },
  {
   "cell_type": "markdown",
   "metadata": {
    "id": "hussM3yRL8xZ"
   },
   "source": [
    "## **b. Compare the training and testing accuracy**"
   ]
  },
  {
   "cell_type": "code",
   "execution_count": 16,
   "metadata": {
    "colab": {
     "base_uri": "https://localhost:8080/"
    },
    "id": "gCcRexQkLxGP",
    "outputId": "7386ae77-1752-4f4b-858b-7f3dff293452"
   },
   "outputs": [
    {
     "name": "stdout",
     "output_type": "stream",
     "text": [
      "1/1 [==============================] - 0s 145ms/step\n"
     ]
    }
   ],
   "source": [
    "mask = range(20,50)\n",
    "X_valid = x_test[0:20]\n",
    "actual_labels = y_test[0:20]\n",
    "\n",
    "# Predict probabilities for the selected validation samples\n",
    "y_pred_probs_valid = model.predict(X_valid)\n",
    "y_pred_valid = np.where(y_pred_probs_valid > 0.5, 1, 0)"
   ]
  },
  {
   "cell_type": "markdown",
   "metadata": {
    "id": "fta-sethMsOD"
   },
   "source": [
    "## **c. Display the predicted labels along the input image.**"
   ]
  },
  {
   "cell_type": "code",
   "execution_count": 17,
   "metadata": {
    "colab": {
     "base_uri": "https://localhost:8080/",
     "height": 253
    },
    "id": "VDLqRKjTMkKC",
    "outputId": "50b0d5fb-a050-4403-e7b9-1ded7397fbce"
   },
   "outputs": [
    {
     "data": {
      "image/png": "[encoded data removed]",
      "text/plain": [
       "<Figure size 2000x400 with 40 Axes>"
      ]
     },
     "metadata": {},
     "output_type": "display_data"
    }
   ],
   "source": [
    "# Set up a figure to display images\n",
    "n = len(X_valid)\n",
    "plt.figure(figsize=(20, 4))\n",
    "\n",
    "for i in range(n):\n",
    "    # Display the original image\n",
    "    ax = plt.subplot(2, n, i + 1)\n",
    "    plt.imshow(X_valid[i].reshape(28, 28))\n",
    "    plt.gray()\n",
    "    ax.get_xaxis().set_visible(False)\n",
    "    ax.get_yaxis().set_visible(False)\n",
    "\n",
    "    # Display the predicted digit\n",
    "    predicted_digit = np.argmax(y_pred_probs_valid[i])\n",
    "    ax = plt.subplot(2, n, i + 1 + n)\n",
    "    plt.text(0.5, 0.5, str(predicted_digit), fontsize=12, ha='center', va='center')\n",
    "    plt.axis('off')\n",
    "\n",
    "# Show the plotted images\n",
    "plt.show()\n",
    "\n",
    "# Close the plot\n",
    "plt.close()\n"
   ]
  }
 ],
 "metadata": {
  "accelerator": "GPU",
  "colab": {
   "gpuType": "T4",
   "provenance": []
  },
  "kernelspec": {
   "display_name": "Python 3 (ipykernel)",
   "language": "python",
   "name": "python3"
  },
  "language_info": {
   "codemirror_mode": {
    "name": "ipython",
    "version": 3
   },
   "file_extension": ".py",
   "mimetype": "text/x-python",
   "name": "python",
   "nbconvert_exporter": "python",
   "pygments_lexer": "ipython3",
   "version": "3.9.12"
  }
 },
 "nbformat": 4,
 "nbformat_minor": 1
}
