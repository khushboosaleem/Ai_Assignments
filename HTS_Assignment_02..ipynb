{
 "cells": [
  {
   "cell_type": "markdown",
   "id": "94c11d73",
   "metadata": {},
   "source": [
    "# ***Assignment #02***\n",
    "\n",
    "\n",
    "---\n",
    "\n",
    "\n",
    "\n",
    "**Hope To Skills**\n",
    "\n",
    "\n",
    "**Free Artificial Intelligence Course**\n",
    "\n",
    "**Instructor: Irfan Malik, Dr. Sheraz**\n",
    "\n",
    "# ***Submitted by KHUSHBOO***"
   ]
  },
  {
   "cell_type": "markdown",
   "id": "8d763d8e",
   "metadata": {},
   "source": [
    "## Create a list named \"fruits\" containing three different fruits."
   ]
  },
  {
   "cell_type": "code",
   "execution_count": 4,
   "id": "ed57cddf",
   "metadata": {},
   "outputs": [
    {
     "name": "stdout",
     "output_type": "stream",
     "text": [
      "['banana', 'mango', 'apple']\n"
     ]
    },
    {
     "data": {
      "text/plain": [
       "list"
      ]
     },
     "execution_count": 4,
     "metadata": {},
     "output_type": "execute_result"
    }
   ],
   "source": [
    "fruits = [\"banana\", \"mango\", \"apple\"]\n",
    "print(fruits)\n",
    "type(fruits)"
   ]
  },
  {
   "cell_type": "markdown",
   "id": "7fe7f702",
   "metadata": {},
   "source": [
    "## Create a tuple named \"numbers\" with five random numbers."
   ]
  },
  {
   "cell_type": "code",
   "execution_count": 5,
   "id": "166c8498",
   "metadata": {},
   "outputs": [
    {
     "name": "stdout",
     "output_type": "stream",
     "text": [
      "(1, 2, 3, 4, 5)\n"
     ]
    },
    {
     "data": {
      "text/plain": [
       "tuple"
      ]
     },
     "execution_count": 5,
     "metadata": {},
     "output_type": "execute_result"
    }
   ],
   "source": [
    "numbers = (1,2,3,4,5)\n",
    "print(numbers)\n",
    "type(numbers)"
   ]
  },
  {
   "cell_type": "markdown",
   "id": "43fd30bd",
   "metadata": {},
   "source": [
    "## Create a set named \"colors\" with three different colors."
   ]
  },
  {
   "cell_type": "code",
   "execution_count": 6,
   "id": "5b636be4",
   "metadata": {},
   "outputs": [
    {
     "name": "stdout",
     "output_type": "stream",
     "text": [
      "{'blue', 'yellow', 'orange'}\n"
     ]
    },
    {
     "data": {
      "text/plain": [
       "set"
      ]
     },
     "execution_count": 6,
     "metadata": {},
     "output_type": "execute_result"
    }
   ],
   "source": [
    "colors = {\"blue\",\"orange\",\"yellow\"}\n",
    "print(colors)\n",
    "type(colors)"
   ]
  },
  {
   "cell_type": "markdown",
   "id": "b0704473",
   "metadata": {},
   "source": [
    "## Create a dictionary named \"student\" with the following key-value pairs:"
   ]
  },
  {
   "cell_type": "markdown",
   "id": "162008c3",
   "metadata": {},
   "source": [
    "**\"name\" as the key and the student's name as the value.**\n",
    "\n",
    "**\"age\" as the key and the student's age as the value.**\n",
    "\n",
    "**\"grade\" as the key and the student's grade as the value.**"
   ]
  },
  {
   "cell_type": "code",
   "execution_count": 7,
   "id": "448fdf5a",
   "metadata": {},
   "outputs": [
    {
     "name": "stdout",
     "output_type": "stream",
     "text": [
      "{'name': 'khushnoor', 'age': 20, 'grade': 'A'}\n"
     ]
    },
    {
     "data": {
      "text/plain": [
       "dict"
      ]
     },
     "execution_count": 7,
     "metadata": {},
     "output_type": "execute_result"
    }
   ],
   "source": [
    "student = {\n",
    "    \"name\":\"khushnoor\",\n",
    "    \"age\": 20,\n",
    "    \"grade\": \"A\"\n",
    "}\n",
    "print(student)\n",
    "type(student)"
   ]
  },
  {
   "cell_type": "markdown",
   "id": "54019145",
   "metadata": {},
   "source": [
    "## Create a multi-line string named \"poem\" with a short poem of your choice."
   ]
  },
  {
   "cell_type": "code",
   "execution_count": 8,
   "id": "2932ab17",
   "metadata": {},
   "outputs": [
    {
     "name": "stdout",
     "output_type": "stream",
     "text": [
      "          Twinkle, twinkle, little star,\n",
      "                   How I wonder what you are!\n",
      "                        Up above the world so high,\n",
      "                        Like a diamond in the sky\n",
      "          Twinkle, twinkle, little star,\n",
      "                   How I wonder what you are!      \n"
     ]
    }
   ],
   "source": [
    "print(\"\"\"          Twinkle, twinkle, little star,\n",
    "                   How I wonder what you are!\n",
    "                        Up above the world so high,\n",
    "                        Like a diamond in the sky\n",
    "          Twinkle, twinkle, little star,\n",
    "                   How I wonder what you are!      \"\"\")"
   ]
  },
  {
   "cell_type": "markdown",
   "id": "d904d730",
   "metadata": {},
   "source": [
    "## Write an if statement to check if the length of the \"fruits\" list is greater than 3. If it is, print \"You have many fruits!\"."
   ]
  },
  {
   "cell_type": "code",
   "execution_count": 14,
   "id": "9a6236f1",
   "metadata": {},
   "outputs": [
    {
     "name": "stdout",
     "output_type": "stream",
     "text": [
      "You have many fruits!\n"
     ]
    }
   ],
   "source": [
    "fruits = [\"banana\", \"mango\", \"apple\", \"cherry\"]\n",
    "\n",
    "if len(fruits) > 3:\n",
    "    print(\"You have many fruits!\")\n",
    "else:\n",
    "    print(\"you not have many fruits\")"
   ]
  }
 ],
 "metadata": {
  "kernelspec": {
   "display_name": "Python 3 (ipykernel)",
   "language": "python",
   "name": "python3"
  },
  "language_info": {
   "codemirror_mode": {
    "name": "ipython",
    "version": 3
   },
   "file_extension": ".py",
   "mimetype": "text/x-python",
   "name": "python",
   "nbconvert_exporter": "python",
   "pygments_lexer": "ipython3",
   "version": "3.9.12"
  }
 },
 "nbformat": 4,
 "nbformat_minor": 5
}
